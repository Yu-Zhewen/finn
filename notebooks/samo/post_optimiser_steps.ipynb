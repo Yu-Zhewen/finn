{
 "cells": [
  {
   "cell_type": "code",
   "execution_count": null,
   "metadata": {},
   "outputs": [],
   "source": [
    "from finn.util.visualization import showInNetron\n",
    "from finn.core.modelwrapper import ModelWrapper\n",
    "from finn.custom_op.registry import getCustomOp\n",
    "import json\n",
    "\n",
    "build_dir = \"/workspace/samo/outputs/saved/finn\"\n",
    "\n",
    "with open(\"config.json\", \"r\") as f:\n",
    "    model_config = json.load(f)\n",
    "\n",
    "model_name = model_config[\"model_name\"]\n",
    "\n",
    "model = ModelWrapper(build_dir+\"/{}_post_optimiser.onnx\".format(model_name))\n",
    "showInNetron(build_dir+\"/{}_post_optimiser.onnx\".format(model_name))"
   ]
  },
  {
   "cell_type": "markdown",
   "metadata": {},
   "source": [
    "## 3. Hardware Build <a id='vivado'></a>\n",
    "\n",
    "We're finally ready to start generating hardware from our network. Depending on whether you want to target a Zynq or Alveo platform, FINN offers two transformations to build the accelerator, integrate into an appropriate shell and build a bitfile. These are `ZynqBuild` and `VitisBuild` for Zynq and Alveo, respectively. In this notebook we'll demonstrate the `ZynqBuild` as these boards are more common and it's much faster to complete bitfile generation for the smaller FPGAs found on them.\n",
    "\n",
    "As we will be dealing with FPGA synthesis tools in these tasks, we'll define two helper variables that describe the Xilinx FPGA part name and the PYNQ board name that we are targeting."
   ]
  },
  {
   "cell_type": "code",
   "execution_count": null,
   "metadata": {},
   "outputs": [],
   "source": [
    "from finn.util.basic import pynq_part_map, alveo_part_map, alveo_default_platform\n",
    "pynq_part_map[\"Zedboard\"] = \"xc7z020clg484-1\"\n",
    "pynq_part_map[\"ZC706\"] = \"xc7z045ffg900-2\"\n",
    "\n",
    "device_name = model_config[\"device\"]\n",
    "target_clk_ns = model_config[\"clock_cycle\"]"
   ]
  },
  {
   "cell_type": "markdown",
   "metadata": {},
   "source": [
    "In previous versions of FINN, we had to manually go through several steps to generate HLS code, stitch IP, create a PYNQ project and run synthesis. All these steps are now performed by the `ZynqBuild` transform (or the `VitisBuild` transform for Alveo). **As this involves calling HLS synthesis and Vivado synthesis, this transformation will run for some time (up to half an hour depending on your PC).**"
   ]
  },
  {
   "cell_type": "code",
   "execution_count": null,
   "metadata": {},
   "outputs": [],
   "source": [
    "from finn.transformation.fpgadataflow.make_zynq_proj import ZynqBuild\n",
    "from finn.transformation.fpgadataflow.vitis_build import VitisBuild, VitisOptStrategy\n",
    "\n",
    "if device_name in pynq_part_map.keys():\n",
    "    model = model.transform(ZynqBuild(platform = device_name, period_ns = target_clk_ns))\n",
    "elif device_name in alveo_part_map.keys():\n",
    "    model = model.transform(VitisBuild(fpga_part=alveo_part_map[device_name], period_ns = target_clk_ns, platform = alveo_default_platform[device_name], strategy=VitisOptStrategy.BUILD_SPEED))\n",
    "else:\n",
    "    assert False"
   ]
  },
  {
   "cell_type": "code",
   "execution_count": null,
   "metadata": {},
   "outputs": [],
   "source": [
    "model.save(build_dir + \"/{}_post_synthesis.onnx\".format(model_name))"
   ]
  },
  {
   "cell_type": "markdown",
   "metadata": {},
   "source": [
    "### Examining the generated outputs <a id='gen_outputs'></a>\n",
    "\n",
    "Let's start by viewing the post-synthesis model in Netron:"
   ]
  },
  {
   "cell_type": "markdown",
   "metadata": {},
   "source": [
    "### Model Prediction"
   ]
  },
  {
   "cell_type": "code",
   "execution_count": null,
   "metadata": {},
   "outputs": [],
   "source": [
    "model = ModelWrapper(build_dir+\"/{}_post_optimiser.onnx\".format(model_name))\n",
    "showInNetron(build_dir+\"/{}_post_optimiser.onnx\".format(model_name))"
   ]
  },
  {
   "cell_type": "code",
   "execution_count": null,
   "metadata": {},
   "outputs": [],
   "source": [
    "from finn.transformation.fpgadataflow.annotate_resources import AnnotateResources\n",
    "model = model.transform(AnnotateResources(mode=\"estimate\"))\n",
    "estimate_network_resource = model.get_metadata_prop(\"res_total_estimate\")\n",
    "\n",
    "from finn.transformation.fpgadataflow.annotate_cycles import AnnotateCycles\n",
    "from finn.analysis.fpgadataflow.dataflow_performance import dataflow_performance\n",
    "# need to call AnnotateCycles before dataflow_performance\n",
    "model = model.transform(AnnotateCycles())\n",
    "estimate_network_performance = model.analysis(dataflow_performance)\n",
    "\n",
    "with open(\"report.txt\", \"w\") as f:\n",
    "    print(\"Model Prediction:\", file=f)\n",
    "    print(estimate_network_resource, file=f)\n",
    "    print(estimate_network_performance, file=f)"
   ]
  },
  {
   "cell_type": "markdown",
   "metadata": {},
   "source": [
    "### HLS Synthesis"
   ]
  },
  {
   "cell_type": "code",
   "execution_count": null,
   "metadata": {},
   "outputs": [],
   "source": [
    "model = ModelWrapper(build_dir + \"/{}_post_synthesis.onnx\".format(model_name))\n",
    "showInNetron(build_dir+\"/{}_post_synthesis.onnx\".format(model_name))"
   ]
  },
  {
   "cell_type": "code",
   "execution_count": null,
   "metadata": {},
   "outputs": [],
   "source": [
    "sdp_node_middle = getCustomOp(model.graph.node[1])\n",
    "postsynth_layers = sdp_node_middle.get_nodeattr(\"model\")\n",
    "model = ModelWrapper(postsynth_layers)\n",
    "model = model.transform(AnnotateResources(mode=\"hls\"))\n",
    "hls_network_resource = model.get_metadata_prop(\"res_total_hls\")\n",
    "\n",
    "with open(\"report.txt\", \"a\") as f:\n",
    "    print(\"HLS Synthesis:\", file=f)\n",
    "    print(hls_network_resource, file=f)"
   ]
  },
  {
   "cell_type": "markdown",
   "metadata": {},
   "source": [
    "### Place and Route"
   ]
  },
  {
   "cell_type": "code",
   "execution_count": null,
   "metadata": {},
   "outputs": [],
   "source": [
    "#model = ModelWrapper(build_dir + \"/{}_post_synthesis.onnx\".format(model_name))\n",
    "#showInNetron(build_dir+\"/{}_post_synthesis.onnx\".format(model_name))"
   ]
  },
  {
   "cell_type": "code",
   "execution_count": null,
   "metadata": {},
   "outputs": [],
   "source": [
    "#model = model.transform(AnnotateResources(mode=\"synth\"))\n",
    "#synth_network_resource = model.get_metadata_prop(\"res_total_top_synth\")\n",
    "#with open(\"report.txt\", \"a\") as f:\n",
    "#    print(\"Place and Route:\", file=f)\n",
    "#    print(synth_network_resource, file=f)"
   ]
  }
 ],
 "metadata": {
  "interpreter": {
   "hash": "86fabb85c45259f9204de7ed329c4031f6f3c95ba1c561ba73983216c0a14ef2"
  },
  "kernelspec": {
   "display_name": "Python 3.8.5 64-bit ('base': conda)",
   "name": "python3"
  },
  "language_info": {
   "name": "python",
   "version": ""
  }
 },
 "nbformat": 4,
 "nbformat_minor": 2
}
